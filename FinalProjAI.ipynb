{
  "nbformat": 4,
  "nbformat_minor": 0,
  "metadata": {
    "colab": {
      "provenance": []
    },
    "kernelspec": {
      "name": "python3",
      "display_name": "Python 3"
    },
    "language_info": {
      "name": "python"
    }
  },
  "cells": [
    {
      "cell_type": "code",
      "execution_count": null,
      "metadata": {
        "colab": {
          "base_uri": "https://localhost:8080/"
        },
        "id": "Jm7bdH4v8rWH",
        "outputId": "d587664c-3664-45bc-8b75-a7ba636bcb28"
      },
      "outputs": [
        {
          "output_type": "stream",
          "name": "stdout",
          "text": [
            "Drive already mounted at /content/drive; to attempt to forcibly remount, call drive.mount(\"/content/drive\", force_remount=True).\n"
          ]
        }
      ],
      "source": [
        "from google.colab import drive\n",
        "drive.mount('/content/drive')"
      ]
    },
    {
      "cell_type": "code",
      "source": [
        "import os\n",
        "data_path = os.path.join('/content/drive', 'My Drive', 'FinalProjData')"
      ],
      "metadata": {
        "id": "PomuGOhpvNrG"
      },
      "execution_count": null,
      "outputs": []
    },
    {
      "cell_type": "markdown",
      "source": [
        "**Step 1: Applying Preprocessing Techniques:**"
      ],
      "metadata": {
        "id": "t7L5DpywvewW"
      }
    },
    {
      "cell_type": "code",
      "source": [
        "import os\n",
        "import cv2\n",
        "import numpy as np\n",
        "from sklearn.model_selection import train_test_split\n",
        "import tensorflow as tf\n",
        "\n",
        "# Define paths(Konrad Began coding here)\n",
        "data_path = '/content/drive/My Drive/FinalProjData/test'\n",
        "malignant_path = os.path.join(data_path, 'malignant')\n",
        "benign_path = os.path.join(data_path, 'benign')\n",
        "\n",
        "def preprocess_image(image_path):\n",
        "  image = cv2.imread(image_path)\n",
        "  image = cv2.resize(image, (224, 224))\n",
        "  image = cv2.cvtColor(image, cv2.COLOR_BGR2GRAY)\n",
        "  clahe = cv2.createCLAHE(clipLimit=2.0, tileGridSize=(8,8))\n",
        "  image = clahe.apply(image)\n",
        "  image = image / 255.0\n",
        "  image = image.astype(np.uint8)\n",
        "  image = cv2.cvtColor(image, cv2.COLOR_GRAY2BGR)\n",
        "  return image\n",
        "\n",
        "def augment_image(image):\n",
        "  image = tf.image.rot90(image, k=tf.random.uniform(shape=[], minval=0, maxval=4, dtype=tf.int32))\n",
        "  image = tf.image.random_flip_left_right(image)\n",
        "  image = tf.image.random_brightness(image, max_delta=0.2)\n",
        "  return image\n",
        "\n",
        "# Lists to store processed images/labels\n",
        "images = []\n",
        "labels = []\n",
        "\n",
        "for folder_path, label in [(malignant_path, 1), (benign_path, 0)]:  # 1 for malignant, 0 for benign\n",
        "  for image_file in os.listdir(folder_path):\n",
        "    image_path = os.path.join(folder_path, image_file)\n",
        "\n",
        "    preprocessed_image = preprocess_image(image_path)\n",
        "\n",
        "    augmented_image = augment_image(preprocessed_image)\n",
        "\n",
        "    images.append(augmented_image)\n",
        "    labels.append(label)\n",
        "\n",
        "images = np.array(images)\n",
        "labels = np.array(labels)"
      ],
      "metadata": {
        "id": "xTpf9xIAwioJ"
      },
      "execution_count": null,
      "outputs": []
    },
    {
      "cell_type": "markdown",
      "source": [
        "**Step 2: Existing Method: VGG16**"
      ],
      "metadata": {
        "id": "raByGYGhzBMU"
      }
    },
    {
      "cell_type": "code",
      "source": [
        "from tensorflow.keras.applications.vgg16 import VGG16\n",
        "from tensorflow.keras.layers import Dense, Flatten\n",
        "from tensorflow.keras.models import Model\n",
        "from tensorflow.keras.optimizers import Adam\n",
        "\n",
        "# Split data into training and testing sets(Chibuzo Began coding here)\n",
        "X_train, X_test, y_train, y_test = train_test_split(images, labels, test_size=0.2, random_state=42)\n",
        "\n",
        "# Load pre-trained VGG16 model\n",
        "base_model = VGG16(weights='imagenet', include_top=False, input_shape=(224, 224, 3))\n",
        "\n",
        "for layer in base_model.layers:\n",
        "    layer.trainable = False\n",
        "\n",
        "#New classification head\n",
        "x = base_model.output\n",
        "x = Flatten()(x)\n",
        "x = Dense(256, activation='relu')(x)\n",
        "predictions = Dense(1, activation='sigmoid')(x) # Binary classification\n",
        "\n",
        "# Final model\n",
        "model = Model(inputs=base_model.input, outputs=predictions)\n",
        "\n",
        "# Compilation\n",
        "model.compile(optimizer=Adam(learning_rate=0.0001), loss='binary_crossentropy', metrics=['accuracy'])\n",
        "\n",
        "# Training the model\n",
        "model.fit(X_train, y_train, epochs=10, batch_size=32, validation_data=(X_test, y_test))"
      ],
      "metadata": {
        "colab": {
          "base_uri": "https://localhost:8080/"
        },
        "id": "qIR5d3gfzAJf",
        "outputId": "c62c74ef-8f2b-469e-bb2b-ad896afd1c2a"
      },
      "execution_count": null,
      "outputs": [
        {
          "output_type": "stream",
          "name": "stdout",
          "text": [
            "Downloading data from https://storage.googleapis.com/tensorflow/keras-applications/vgg16/vgg16_weights_tf_dim_ordering_tf_kernels_notop.h5\n",
            "\u001b[1m58889256/58889256\u001b[0m \u001b[32m━━━━━━━━━━━━━━━━━━━━\u001b[0m\u001b[37m\u001b[0m \u001b[1m1s\u001b[0m 0us/step\n",
            "Epoch 1/10\n",
            "\u001b[1m17/17\u001b[0m \u001b[32m━━━━━━━━━━━━━━━━━━━━\u001b[0m\u001b[37m\u001b[0m \u001b[1m377s\u001b[0m 22s/step - accuracy: 0.5142 - loss: 0.8388 - val_accuracy: 0.5379 - val_loss: 0.7016\n",
            "Epoch 2/10\n",
            "\u001b[1m17/17\u001b[0m \u001b[32m━━━━━━━━━━━━━━━━━━━━\u001b[0m\u001b[37m\u001b[0m \u001b[1m365s\u001b[0m 21s/step - accuracy: 0.4463 - loss: 0.7405 - val_accuracy: 0.5379 - val_loss: 0.7413\n",
            "Epoch 3/10\n",
            "\u001b[1m17/17\u001b[0m \u001b[32m━━━━━━━━━━━━━━━━━━━━\u001b[0m\u001b[37m\u001b[0m \u001b[1m391s\u001b[0m 22s/step - accuracy: 0.5075 - loss: 0.7631 - val_accuracy: 0.5455 - val_loss: 0.7165\n",
            "Epoch 4/10\n",
            "\u001b[1m17/17\u001b[0m \u001b[32m━━━━━━━━━━━━━━━━━━━━\u001b[0m\u001b[37m\u001b[0m \u001b[1m370s\u001b[0m 21s/step - accuracy: 0.5594 - loss: 0.6890 - val_accuracy: 0.4318 - val_loss: 0.7610\n",
            "Epoch 5/10\n",
            "\u001b[1m17/17\u001b[0m \u001b[32m━━━━━━━━━━━━━━━━━━━━\u001b[0m\u001b[37m\u001b[0m \u001b[1m394s\u001b[0m 22s/step - accuracy: 0.5220 - loss: 0.7214 - val_accuracy: 0.5379 - val_loss: 0.7189\n",
            "Epoch 6/10\n",
            "\u001b[1m17/17\u001b[0m \u001b[32m━━━━━━━━━━━━━━━━━━━━\u001b[0m\u001b[37m\u001b[0m \u001b[1m380s\u001b[0m 22s/step - accuracy: 0.5102 - loss: 0.7039 - val_accuracy: 0.4242 - val_loss: 0.7372\n",
            "Epoch 7/10\n",
            "\u001b[1m17/17\u001b[0m \u001b[32m━━━━━━━━━━━━━━━━━━━━\u001b[0m\u001b[37m\u001b[0m \u001b[1m366s\u001b[0m 22s/step - accuracy: 0.4845 - loss: 0.7012 - val_accuracy: 0.5076 - val_loss: 0.7233\n",
            "Epoch 8/10\n",
            "\u001b[1m17/17\u001b[0m \u001b[32m━━━━━━━━━━━━━━━━━━━━\u001b[0m\u001b[37m\u001b[0m \u001b[1m367s\u001b[0m 22s/step - accuracy: 0.5535 - loss: 0.6934 - val_accuracy: 0.5000 - val_loss: 0.7322\n",
            "Epoch 9/10\n",
            "\u001b[1m17/17\u001b[0m \u001b[32m━━━━━━━━━━━━━━━━━━━━\u001b[0m\u001b[37m\u001b[0m \u001b[1m382s\u001b[0m 22s/step - accuracy: 0.5470 - loss: 0.6806 - val_accuracy: 0.5379 - val_loss: 0.7159\n",
            "Epoch 10/10\n",
            "\u001b[1m17/17\u001b[0m \u001b[32m━━━━━━━━━━━━━━━━━━━━\u001b[0m\u001b[37m\u001b[0m \u001b[1m382s\u001b[0m 22s/step - accuracy: 0.5128 - loss: 0.6914 - val_accuracy: 0.5000 - val_loss: 0.7557\n"
          ]
        },
        {
          "output_type": "execute_result",
          "data": {
            "text/plain": [
              "<keras.src.callbacks.history.History at 0x7ee61bc9e0d0>"
            ]
          },
          "metadata": {},
          "execution_count": 8
        }
      ]
    },
    {
      "cell_type": "markdown",
      "source": [
        "**Step 3: Evaluation**"
      ],
      "metadata": {
        "id": "2SxXxGcaC2fr"
      }
    },
    {
      "cell_type": "code",
      "source": [
        "loss, accuracy = model.evaluate(X_test, y_test, verbose=0)\n",
        "print(f\"Test Loss: {loss:.4f}\")\n",
        "print(f\"Test Accuracy: {accuracy:.4f}\")"
      ],
      "metadata": {
        "colab": {
          "base_uri": "https://localhost:8080/"
        },
        "id": "95qqLhBQCdcd",
        "outputId": "249b703f-e8a6-444f-a858-be265c6c839d"
      },
      "execution_count": null,
      "outputs": [
        {
          "output_type": "stream",
          "name": "stdout",
          "text": [
            "Test Loss: 0.7557\n",
            "Test Accuracy: 0.5000\n"
          ]
        }
      ]
    },
    {
      "cell_type": "markdown",
      "source": [
        "**Step 4: Now, given our results we need to work on a new model which will give us greater results. We will use the EfficientNet-B0 architecture for this**"
      ],
      "metadata": {
        "id": "NaZ8WPhCLRNn"
      }
    },
    {
      "cell_type": "code",
      "source": [
        "!pip install keras-tuner\n",
        "import os\n",
        "import cv2\n",
        "import numpy as np\n",
        "import tensorflow as tf\n",
        "from sklearn.model_selection import train_test_split\n",
        "from sklearn.utils.class_weight import compute_class_weight\n",
        "from tensorflow.keras.applications import EfficientNetB0\n",
        "from tensorflow.keras.applications.efficientnet import preprocess_input\n",
        "from tensorflow.keras.preprocessing.image import ImageDataGenerator\n",
        "from tensorflow.keras.models import Model\n",
        "from tensorflow.keras.layers import Dense, Dropout, GlobalAveragePooling2D\n",
        "from tensorflow.keras.optimizers import Adam\n",
        "\n",
        "# Step 1: Load and Preprocess Images(Chibuzo Began Coding here)\n",
        "data_path = '/content/drive/My Drive/FinalProjData/test'\n",
        "malignant_path = os.path.join(data_path, 'malignant')\n",
        "benign_path = os.path.join(data_path, 'benign')\n",
        "\n",
        "def load_and_preprocess_images(image_paths):\n",
        "    images = []\n",
        "    for path in image_paths:\n",
        "        image = cv2.imread(path)\n",
        "        image = cv2.resize(image, (224, 224))\n",
        "        image = cv2.cvtColor(image, cv2.COLOR_BGR2RGB)\n",
        "        image = preprocess_input(image)\n",
        "        images.append(image)\n",
        "    return np.array(images)\n",
        "\n",
        "# Get image paths and labels\n",
        "images_paths = []\n",
        "labels = []\n",
        "\n",
        "for folder_path, label in [(malignant_path, 1), (benign_path, 0)]:\n",
        "    for image_file in os.listdir(folder_path):\n",
        "        image_path = os.path.join(folder_path, image_file)\n",
        "        images_paths.append(image_path)\n",
        "        labels.append(label)\n",
        "\n",
        "labels = np.array(labels)\n",
        "\n",
        "# Step 2: Split and Load Data\n",
        "X_train_paths, X_test_paths, y_train, y_test = train_test_split(\n",
        "    images_paths, labels, test_size=0.2, random_state=42, stratify=labels)\n",
        "\n",
        "X_train = load_and_preprocess_images(X_train_paths)\n",
        "X_test = load_and_preprocess_images(X_test_paths)\n",
        "\n",
        "# Step 3: Data Augmentation(Konrad Began coding here)\n",
        "train_datagen = ImageDataGenerator(\n",
        "    rotation_range=20,\n",
        "    width_shift_range=0.1,\n",
        "    height_shift_range=0.1,\n",
        "    horizontal_flip=True\n",
        ")\n",
        "\n",
        "val_datagen = ImageDataGenerator()\n",
        "\n",
        "train_generator = train_datagen.flow(X_train, y_train, batch_size=32)\n",
        "val_generator = val_datagen.flow(X_test, y_test, batch_size=32)\n",
        "\n",
        "# Step 4: Compute Class Weights\n",
        "class_weights = compute_class_weight(class_weight='balanced', classes=np.unique(y_train), y=y_train)\n",
        "class_weights_dict = dict(enumerate(class_weights))\n",
        "\n",
        "# Step 5: Build EfficientNetB0 Model (Fine-Tuned)\n",
        "base_model = EfficientNetB0(weights='imagenet', include_top=False, input_shape=(224, 224, 3))\n",
        "base_model.trainable = True\n",
        "\n",
        "x = base_model.output\n",
        "x = GlobalAveragePooling2D()(x)\n",
        "x = Dropout(0.5)(x)\n",
        "x = Dense(128, activation='relu')(x)\n",
        "x = Dropout(0.3)(x)\n",
        "output = Dense(1, activation='sigmoid')(x)\n",
        "\n",
        "model = Model(inputs=base_model.input, outputs=output)\n",
        "\n",
        "model.compile(optimizer=Adam(learning_rate=1e-5), loss='binary_crossentropy', metrics=['accuracy'])\n",
        "\n",
        "# Step 6: Train the Model\n",
        "history = model.fit(\n",
        "    train_generator,\n",
        "    epochs=10,\n",
        "    validation_data=val_generator,\n",
        "    class_weight=class_weights_dict\n",
        ")\n",
        "# Step 7: Evaluate the Model\n",
        "loss, accuracy = model.evaluate(val_generator, verbose=0)\n",
        "print(f\"Test Loss: {loss:.4f}\")\n",
        "print(f\"Test Accuracy: {accuracy:.4f}\")\n"
      ],
      "metadata": {
        "colab": {
          "base_uri": "https://localhost:8080/"
        },
        "id": "CE38k-W4LkJg",
        "outputId": "eaac2151-4445-4c70-a508-a3c23cebc80d"
      },
      "execution_count": null,
      "outputs": [
        {
          "output_type": "stream",
          "name": "stdout",
          "text": [
            "Requirement already satisfied: keras-tuner in /usr/local/lib/python3.11/dist-packages (1.4.7)\n",
            "Requirement already satisfied: keras in /usr/local/lib/python3.11/dist-packages (from keras-tuner) (3.8.0)\n",
            "Requirement already satisfied: packaging in /usr/local/lib/python3.11/dist-packages (from keras-tuner) (24.2)\n",
            "Requirement already satisfied: requests in /usr/local/lib/python3.11/dist-packages (from keras-tuner) (2.32.3)\n",
            "Requirement already satisfied: kt-legacy in /usr/local/lib/python3.11/dist-packages (from keras-tuner) (1.0.5)\n",
            "Requirement already satisfied: absl-py in /usr/local/lib/python3.11/dist-packages (from keras->keras-tuner) (1.4.0)\n",
            "Requirement already satisfied: numpy in /usr/local/lib/python3.11/dist-packages (from keras->keras-tuner) (2.0.2)\n",
            "Requirement already satisfied: rich in /usr/local/lib/python3.11/dist-packages (from keras->keras-tuner) (13.9.4)\n",
            "Requirement already satisfied: namex in /usr/local/lib/python3.11/dist-packages (from keras->keras-tuner) (0.0.8)\n",
            "Requirement already satisfied: h5py in /usr/local/lib/python3.11/dist-packages (from keras->keras-tuner) (3.13.0)\n",
            "Requirement already satisfied: optree in /usr/local/lib/python3.11/dist-packages (from keras->keras-tuner) (0.15.0)\n",
            "Requirement already satisfied: ml-dtypes in /usr/local/lib/python3.11/dist-packages (from keras->keras-tuner) (0.4.1)\n",
            "Requirement already satisfied: charset-normalizer<4,>=2 in /usr/local/lib/python3.11/dist-packages (from requests->keras-tuner) (3.4.1)\n",
            "Requirement already satisfied: idna<4,>=2.5 in /usr/local/lib/python3.11/dist-packages (from requests->keras-tuner) (3.10)\n",
            "Requirement already satisfied: urllib3<3,>=1.21.1 in /usr/local/lib/python3.11/dist-packages (from requests->keras-tuner) (2.3.0)\n",
            "Requirement already satisfied: certifi>=2017.4.17 in /usr/local/lib/python3.11/dist-packages (from requests->keras-tuner) (2025.1.31)\n",
            "Requirement already satisfied: typing-extensions>=4.5.0 in /usr/local/lib/python3.11/dist-packages (from optree->keras->keras-tuner) (4.13.2)\n",
            "Requirement already satisfied: markdown-it-py>=2.2.0 in /usr/local/lib/python3.11/dist-packages (from rich->keras->keras-tuner) (3.0.0)\n",
            "Requirement already satisfied: pygments<3.0.0,>=2.13.0 in /usr/local/lib/python3.11/dist-packages (from rich->keras->keras-tuner) (2.18.0)\n",
            "Requirement already satisfied: mdurl~=0.1 in /usr/local/lib/python3.11/dist-packages (from markdown-it-py>=2.2.0->rich->keras->keras-tuner) (0.1.2)\n"
          ]
        },
        {
          "output_type": "stream",
          "name": "stderr",
          "text": [
            "/usr/local/lib/python3.11/dist-packages/keras/src/trainers/data_adapters/py_dataset_adapter.py:121: UserWarning: Your `PyDataset` class should call `super().__init__(**kwargs)` in its constructor. `**kwargs` can include `workers`, `use_multiprocessing`, `max_queue_size`. Do not pass these arguments to `fit()`, as they will be ignored.\n",
            "  self._warn_if_super_not_called()\n"
          ]
        },
        {
          "output_type": "stream",
          "name": "stdout",
          "text": [
            "Epoch 1/10\n",
            "\u001b[1m17/17\u001b[0m \u001b[32m━━━━━━━━━━━━━━━━━━━━\u001b[0m\u001b[37m\u001b[0m \u001b[1m268s\u001b[0m 13s/step - accuracy: 0.4908 - loss: 0.7391 - val_accuracy: 0.4773 - val_loss: 0.7814\n",
            "Epoch 2/10\n",
            "\u001b[1m17/17\u001b[0m \u001b[32m━━━━━━━━━━━━━━━━━━━━\u001b[0m\u001b[37m\u001b[0m \u001b[1m193s\u001b[0m 11s/step - accuracy: 0.5066 - loss: 0.7359 - val_accuracy: 0.4621 - val_loss: 0.7541\n",
            "Epoch 3/10\n",
            "\u001b[1m17/17\u001b[0m \u001b[32m━━━━━━━━━━━━━━━━━━━━\u001b[0m\u001b[37m\u001b[0m \u001b[1m186s\u001b[0m 11s/step - accuracy: 0.5633 - loss: 0.6791 - val_accuracy: 0.4167 - val_loss: 0.7303\n",
            "Epoch 4/10\n",
            "\u001b[1m17/17\u001b[0m \u001b[32m━━━━━━━━━━━━━━━━━━━━\u001b[0m\u001b[37m\u001b[0m \u001b[1m189s\u001b[0m 11s/step - accuracy: 0.6358 - loss: 0.6407 - val_accuracy: 0.4621 - val_loss: 0.7130\n",
            "Epoch 5/10\n",
            "\u001b[1m17/17\u001b[0m \u001b[32m━━━━━━━━━━━━━━━━━━━━\u001b[0m\u001b[37m\u001b[0m \u001b[1m201s\u001b[0m 12s/step - accuracy: 0.6137 - loss: 0.6539 - val_accuracy: 0.5227 - val_loss: 0.6939\n",
            "Epoch 6/10\n",
            "\u001b[1m17/17\u001b[0m \u001b[32m━━━━━━━━━━━━━━━━━━━━\u001b[0m\u001b[37m\u001b[0m \u001b[1m190s\u001b[0m 11s/step - accuracy: 0.6074 - loss: 0.6313 - val_accuracy: 0.5530 - val_loss: 0.6754\n",
            "Epoch 7/10\n",
            "\u001b[1m17/17\u001b[0m \u001b[32m━━━━━━━━━━━━━━━━━━━━\u001b[0m\u001b[37m\u001b[0m \u001b[1m189s\u001b[0m 11s/step - accuracy: 0.6078 - loss: 0.6422 - val_accuracy: 0.6061 - val_loss: 0.6537\n",
            "Epoch 8/10\n",
            "\u001b[1m17/17\u001b[0m \u001b[32m━━━━━━━━━━━━━━━━━━━━\u001b[0m\u001b[37m\u001b[0m \u001b[1m198s\u001b[0m 12s/step - accuracy: 0.6247 - loss: 0.6181 - val_accuracy: 0.6591 - val_loss: 0.6324\n",
            "Epoch 9/10\n",
            "\u001b[1m17/17\u001b[0m \u001b[32m━━━━━━━━━━━━━━━━━━━━\u001b[0m\u001b[37m\u001b[0m \u001b[1m200s\u001b[0m 12s/step - accuracy: 0.6659 - loss: 0.5965 - val_accuracy: 0.7121 - val_loss: 0.6113\n",
            "Epoch 10/10\n",
            "\u001b[1m17/17\u001b[0m \u001b[32m━━━━━━━━━━━━━━━━━━━━\u001b[0m\u001b[37m\u001b[0m \u001b[1m194s\u001b[0m 11s/step - accuracy: 0.6969 - loss: 0.5615 - val_accuracy: 0.7803 - val_loss: 0.5912\n",
            "Test Loss: 0.5912\n",
            "Test Accuracy: 0.7803\n"
          ]
        }
      ]
    },
    {
      "cell_type": "markdown",
      "source": [
        "*Step 5: We must compare our results to see how exactly our models compare to each other*"
      ],
      "metadata": {
        "id": "_9lOHZRJunoC"
      }
    },
    {
      "cell_type": "code",
      "source": [
        "from sklearn.metrics import f1_score\n",
        "\n",
        "# Store results in a dictionary(Chibuzo started to code here)\n",
        "results = {\n",
        "    'VGG16': {'loss': 0.7557, 'accuracy': 0.5000},\n",
        "    'EfficientNet-B0': {'loss': 0.5912, 'accuracy': 0.7803}\n",
        "}\n",
        "\n",
        "# Function to estimate F1 score based on accuracy\n",
        "def estimate_f1_from_accuracy(accuracy):\n",
        "    tpr = accuracy\n",
        "    fpr = 1 - accuracy\n",
        "    precision = tpr / (tpr + fpr)\n",
        "    recall = tpr\n",
        "    f1 = 2 * (precision * recall) / (precision + recall)\n",
        "    return f1\n",
        "\n",
        "# Calculate F1 scores\n",
        "for model_name, metrics in results.items():\n",
        "    metrics['f1'] = estimate_f1_from_accuracy(metrics['accuracy'])\n",
        "\n",
        "# Print a comparison table with F1 score\n",
        "print(\"Model Comparison:\")\n",
        "print(\"{:<15} {:<10} {:<10} {:<10}\".format(\"Model\", \"Loss\", \"Accuracy\", \"F1 Score\"))\n",
        "print(\"-\" * 45)\n",
        "for model_name, metrics in results.items():\n",
        "    print(\"{:<15} {:<10.4f} {:<10.4f} {:<10.4f}\".format(model_name, metrics['loss'], metrics['accuracy'], metrics['f1']))"
      ],
      "metadata": {
        "colab": {
          "base_uri": "https://localhost:8080/"
        },
        "id": "5eO7tWPCumt0",
        "outputId": "464a13ef-b699-4951-f83d-23c43a0dae8c"
      },
      "execution_count": null,
      "outputs": [
        {
          "output_type": "stream",
          "name": "stdout",
          "text": [
            "Model Comparison:\n",
            "Model           Loss       Accuracy   F1 Score  \n",
            "---------------------------------------------\n",
            "VGG16           0.7557     0.5000     0.5000    \n",
            "EfficientNet-B0 0.5912     0.7803     0.7803    \n"
          ]
        }
      ]
    },
    {
      "cell_type": "code",
      "source": [
        "import matplotlib.pyplot as plt\n",
        "import numpy as np\n",
        "\n",
        "# Store results in a dictionary(Konrad started to code here)\n",
        "results = {\n",
        "    'VGG16': {'loss': 0.7557, 'accuracy': 0.5000},\n",
        "    'EfficientNet-B0': {'loss': 0.5912, 'accuracy': 0.7803}\n",
        "}\n",
        "\n",
        "# Total number of images in the test set (544 total images and 80/20 split)\n",
        "total_test_images = int(544 * 0.2)  # 20% for testing\n",
        "\n",
        "# Extract model names and accuracies for plotting\n",
        "model_names = list(results.keys())\n",
        "accuracies = [results[model]['accuracy'] for model in model_names]\n",
        "\n",
        "# Create the bar graph\n",
        "plt.figure(figsize=(8, 6))\n",
        "bars = plt.bar(model_names, accuracies, color=['blue', 'green'])\n",
        "plt.title('Model Accuracy Comparison')\n",
        "plt.xlabel('Model')\n",
        "plt.ylabel('Accuracy (%)')\n",
        "plt.ylim(0, 1)\n",
        "\n",
        "\n",
        "for bar, accuracy in zip(bars, accuracies):\n",
        "    correct_predictions = int(accuracy * total_test_images)\n",
        "    plt.text(bar.get_x() + bar.get_width() / 2,\n",
        "             bar.get_height() + 0.02,\n",
        "             f'{accuracy * 100:.2f}% ({correct_predictions})',\n",
        "             ha='center', va='bottom', fontweight='bold')\n",
        "\n",
        "plt.text(0.5, -0.1, f'Result Data Based On: 108 Images(436 were used for training)',\n",
        "         ha='center', va='top', transform=plt.gca().transAxes)\n",
        "\n",
        "plt.show()"
      ],
      "metadata": {
        "colab": {
          "base_uri": "https://localhost:8080/",
          "height": 581
        },
        "id": "Mt6OC3FU1KWL",
        "outputId": "a4e83ddc-68cd-4281-ab5e-498ed6b1c25d"
      },
      "execution_count": null,
      "outputs": [
        {
          "output_type": "display_data",
          "data": {
            "text/plain": [
              "<Figure size 800x600 with 1 Axes>"
            ],
            "image/png": "[encoded data removed]"
          },
          "metadata": {}
        }
      ]
    }
  ]
}